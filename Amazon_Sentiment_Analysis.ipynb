{
  "nbformat": 4,
  "nbformat_minor": 0,
  "metadata": {
    "colab": {
      "provenance": [],
      "authorship_tag": "ABX9TyM5OmkVeU23qRequXdG6NnD",
      "include_colab_link": true
    },
    "kernelspec": {
      "name": "python3",
      "display_name": "Python 3"
    },
    "language_info": {
      "name": "python"
    },
    "widgets": {
      "application/vnd.jupyter.widget-state+json": {
        "b932295c9e1542f5ba9e240dc32135ee": {
          "model_module": "@jupyter-widgets/controls",
          "model_name": "HBoxModel",
          "model_module_version": "1.5.0",
          "state": {
            "_dom_classes": [],
            "_model_module": "@jupyter-widgets/controls",
            "_model_module_version": "1.5.0",
            "_model_name": "HBoxModel",
            "_view_count": null,
            "_view_module": "@jupyter-widgets/controls",
            "_view_module_version": "1.5.0",
            "_view_name": "HBoxView",
            "box_style": "",
            "children": [
              "IPY_MODEL_4ffff7ecb79443469d9050d5f9b972c3",
              "IPY_MODEL_10b261b06ca440a88a8e866a74b7ce81",
              "IPY_MODEL_253b802c29e94b96a6049ef0e71120a3"
            ],
            "layout": "IPY_MODEL_90f8a281b1f641a58f4803b37e9cd9e3"
          }
        },
        "4ffff7ecb79443469d9050d5f9b972c3": {
          "model_module": "@jupyter-widgets/controls",
          "model_name": "HTMLModel",
          "model_module_version": "1.5.0",
          "state": {
            "_dom_classes": [],
            "_model_module": "@jupyter-widgets/controls",
            "_model_module_version": "1.5.0",
            "_model_name": "HTMLModel",
            "_view_count": null,
            "_view_module": "@jupyter-widgets/controls",
            "_view_module_version": "1.5.0",
            "_view_name": "HTMLView",
            "description": "",
            "description_tooltip": null,
            "layout": "IPY_MODEL_d6984cef2b254f1aaa16848b92361ace",
            "placeholder": "​",
            "style": "IPY_MODEL_4c3583edd925486d935511b5bdd77a03",
            "value": "100%"
          }
        },
        "10b261b06ca440a88a8e866a74b7ce81": {
          "model_module": "@jupyter-widgets/controls",
          "model_name": "FloatProgressModel",
          "model_module_version": "1.5.0",
          "state": {
            "_dom_classes": [],
            "_model_module": "@jupyter-widgets/controls",
            "_model_module_version": "1.5.0",
            "_model_name": "FloatProgressModel",
            "_view_count": null,
            "_view_module": "@jupyter-widgets/controls",
            "_view_module_version": "1.5.0",
            "_view_name": "ProgressView",
            "bar_style": "success",
            "description": "",
            "description_tooltip": null,
            "layout": "IPY_MODEL_8017485ad5c846588a7dddefa011d3fa",
            "max": 100,
            "min": 0,
            "orientation": "horizontal",
            "style": "IPY_MODEL_341f0b6390e4477c8527763a3cb7d22f",
            "value": 100
          }
        },
        "253b802c29e94b96a6049ef0e71120a3": {
          "model_module": "@jupyter-widgets/controls",
          "model_name": "HTMLModel",
          "model_module_version": "1.5.0",
          "state": {
            "_dom_classes": [],
            "_model_module": "@jupyter-widgets/controls",
            "_model_module_version": "1.5.0",
            "_model_name": "HTMLModel",
            "_view_count": null,
            "_view_module": "@jupyter-widgets/controls",
            "_view_module_version": "1.5.0",
            "_view_name": "HTMLView",
            "description": "",
            "description_tooltip": null,
            "layout": "IPY_MODEL_12f0b9983c8144d69339a1962a265022",
            "placeholder": "​",
            "style": "IPY_MODEL_12d76f692cf54e4fa70f29570b9366ab",
            "value": " 100/100 [00:00&lt;00:00, 374.64it/s]"
          }
        },
        "90f8a281b1f641a58f4803b37e9cd9e3": {
          "model_module": "@jupyter-widgets/base",
          "model_name": "LayoutModel",
          "model_module_version": "1.2.0",
          "state": {
            "_model_module": "@jupyter-widgets/base",
            "_model_module_version": "1.2.0",
            "_model_name": "LayoutModel",
            "_view_count": null,
            "_view_module": "@jupyter-widgets/base",
            "_view_module_version": "1.2.0",
            "_view_name": "LayoutView",
            "align_content": null,
            "align_items": null,
            "align_self": null,
            "border": null,
            "bottom": null,
            "display": null,
            "flex": null,
            "flex_flow": null,
            "grid_area": null,
            "grid_auto_columns": null,
            "grid_auto_flow": null,
            "grid_auto_rows": null,
            "grid_column": null,
            "grid_gap": null,
            "grid_row": null,
            "grid_template_areas": null,
            "grid_template_columns": null,
            "grid_template_rows": null,
            "height": null,
            "justify_content": null,
            "justify_items": null,
            "left": null,
            "margin": null,
            "max_height": null,
            "max_width": null,
            "min_height": null,
            "min_width": null,
            "object_fit": null,
            "object_position": null,
            "order": null,
            "overflow": null,
            "overflow_x": null,
            "overflow_y": null,
            "padding": null,
            "right": null,
            "top": null,
            "visibility": null,
            "width": null
          }
        },
        "d6984cef2b254f1aaa16848b92361ace": {
          "model_module": "@jupyter-widgets/base",
          "model_name": "LayoutModel",
          "model_module_version": "1.2.0",
          "state": {
            "_model_module": "@jupyter-widgets/base",
            "_model_module_version": "1.2.0",
            "_model_name": "LayoutModel",
            "_view_count": null,
            "_view_module": "@jupyter-widgets/base",
            "_view_module_version": "1.2.0",
            "_view_name": "LayoutView",
            "align_content": null,
            "align_items": null,
            "align_self": null,
            "border": null,
            "bottom": null,
            "display": null,
            "flex": null,
            "flex_flow": null,
            "grid_area": null,
            "grid_auto_columns": null,
            "grid_auto_flow": null,
            "grid_auto_rows": null,
            "grid_column": null,
            "grid_gap": null,
            "grid_row": null,
            "grid_template_areas": null,
            "grid_template_columns": null,
            "grid_template_rows": null,
            "height": null,
            "justify_content": null,
            "justify_items": null,
            "left": null,
            "margin": null,
            "max_height": null,
            "max_width": null,
            "min_height": null,
            "min_width": null,
            "object_fit": null,
            "object_position": null,
            "order": null,
            "overflow": null,
            "overflow_x": null,
            "overflow_y": null,
            "padding": null,
            "right": null,
            "top": null,
            "visibility": null,
            "width": null
          }
        },
        "4c3583edd925486d935511b5bdd77a03": {
          "model_module": "@jupyter-widgets/controls",
          "model_name": "DescriptionStyleModel",
          "model_module_version": "1.5.0",
          "state": {
            "_model_module": "@jupyter-widgets/controls",
            "_model_module_version": "1.5.0",
            "_model_name": "DescriptionStyleModel",
            "_view_count": null,
            "_view_module": "@jupyter-widgets/base",
            "_view_module_version": "1.2.0",
            "_view_name": "StyleView",
            "description_width": ""
          }
        },
        "8017485ad5c846588a7dddefa011d3fa": {
          "model_module": "@jupyter-widgets/base",
          "model_name": "LayoutModel",
          "model_module_version": "1.2.0",
          "state": {
            "_model_module": "@jupyter-widgets/base",
            "_model_module_version": "1.2.0",
            "_model_name": "LayoutModel",
            "_view_count": null,
            "_view_module": "@jupyter-widgets/base",
            "_view_module_version": "1.2.0",
            "_view_name": "LayoutView",
            "align_content": null,
            "align_items": null,
            "align_self": null,
            "border": null,
            "bottom": null,
            "display": null,
            "flex": null,
            "flex_flow": null,
            "grid_area": null,
            "grid_auto_columns": null,
            "grid_auto_flow": null,
            "grid_auto_rows": null,
            "grid_column": null,
            "grid_gap": null,
            "grid_row": null,
            "grid_template_areas": null,
            "grid_template_columns": null,
            "grid_template_rows": null,
            "height": null,
            "justify_content": null,
            "justify_items": null,
            "left": null,
            "margin": null,
            "max_height": null,
            "max_width": null,
            "min_height": null,
            "min_width": null,
            "object_fit": null,
            "object_position": null,
            "order": null,
            "overflow": null,
            "overflow_x": null,
            "overflow_y": null,
            "padding": null,
            "right": null,
            "top": null,
            "visibility": null,
            "width": null
          }
        },
        "341f0b6390e4477c8527763a3cb7d22f": {
          "model_module": "@jupyter-widgets/controls",
          "model_name": "ProgressStyleModel",
          "model_module_version": "1.5.0",
          "state": {
            "_model_module": "@jupyter-widgets/controls",
            "_model_module_version": "1.5.0",
            "_model_name": "ProgressStyleModel",
            "_view_count": null,
            "_view_module": "@jupyter-widgets/base",
            "_view_module_version": "1.2.0",
            "_view_name": "StyleView",
            "bar_color": null,
            "description_width": ""
          }
        },
        "12f0b9983c8144d69339a1962a265022": {
          "model_module": "@jupyter-widgets/base",
          "model_name": "LayoutModel",
          "model_module_version": "1.2.0",
          "state": {
            "_model_module": "@jupyter-widgets/base",
            "_model_module_version": "1.2.0",
            "_model_name": "LayoutModel",
            "_view_count": null,
            "_view_module": "@jupyter-widgets/base",
            "_view_module_version": "1.2.0",
            "_view_name": "LayoutView",
            "align_content": null,
            "align_items": null,
            "align_self": null,
            "border": null,
            "bottom": null,
            "display": null,
            "flex": null,
            "flex_flow": null,
            "grid_area": null,
            "grid_auto_columns": null,
            "grid_auto_flow": null,
            "grid_auto_rows": null,
            "grid_column": null,
            "grid_gap": null,
            "grid_row": null,
            "grid_template_areas": null,
            "grid_template_columns": null,
            "grid_template_rows": null,
            "height": null,
            "justify_content": null,
            "justify_items": null,
            "left": null,
            "margin": null,
            "max_height": null,
            "max_width": null,
            "min_height": null,
            "min_width": null,
            "object_fit": null,
            "object_position": null,
            "order": null,
            "overflow": null,
            "overflow_x": null,
            "overflow_y": null,
            "padding": null,
            "right": null,
            "top": null,
            "visibility": null,
            "width": null
          }
        },
        "12d76f692cf54e4fa70f29570b9366ab": {
          "model_module": "@jupyter-widgets/controls",
          "model_name": "DescriptionStyleModel",
          "model_module_version": "1.5.0",
          "state": {
            "_model_module": "@jupyter-widgets/controls",
            "_model_module_version": "1.5.0",
            "_model_name": "DescriptionStyleModel",
            "_view_count": null,
            "_view_module": "@jupyter-widgets/base",
            "_view_module_version": "1.2.0",
            "_view_name": "StyleView",
            "description_width": ""
          }
        }
      }
    }
  },
  "cells": [
    {
      "cell_type": "markdown",
      "metadata": {
        "id": "view-in-github",
        "colab_type": "text"
      },
      "source": [
        "<a href=\"https://colab.research.google.com/github/sutanto5/Amazon_WebScraper/blob/main/Amazon_Sentiment_Analysis.ipynb\" target=\"_parent\"><img src=\"https://colab.research.google.com/assets/colab-badge.svg\" alt=\"Open In Colab\"/></a>"
      ]
    },
    {
      "cell_type": "code",
      "execution_count": 22,
      "metadata": {
        "id": "NnIQze8GS2LB"
      },
      "outputs": [],
      "source": [
        "#This model will be used to run sentiment analysis on my book review data\n"
      ]
    },
    {
      "cell_type": "code",
      "source": [
        "me"
      ],
      "metadata": {
        "id": "1ef1SyXc8b6z"
      },
      "execution_count": null,
      "outputs": []
    },
    {
      "cell_type": "markdown",
      "source": [
        "# **NLTK Basics**"
      ],
      "metadata": {
        "id": "BePq5RuxV9iH"
      }
    },
    {
      "cell_type": "code",
      "source": [
        "#imports\n",
        "import pandas as pd\n",
        "import numpy as np\n",
        "import matplotlib.pyplot as plt\n",
        "import seaborn as sns\n",
        "plt.style.use('ggplot')\n",
        "import nltk\n",
        "nltk.download('punkt_tab')\n",
        "from nltk.tokenize import word_tokenize\n",
        "from nltk.sentiment.vader import SentimentIntensityAnalyzer"
      ],
      "metadata": {
        "id": "7xwiOEptWDPW",
        "colab": {
          "base_uri": "https://localhost:8080/"
        },
        "outputId": "b225df8b-c3c7-4697-879b-2a9959b03ae8"
      },
      "execution_count": 38,
      "outputs": [
        {
          "output_type": "stream",
          "name": "stderr",
          "text": [
            "[nltk_data] Downloading package punkt_tab to /root/nltk_data...\n",
            "[nltk_data]   Unzipping tokenizers/punkt_tab.zip.\n"
          ]
        }
      ]
    },
    {
      "cell_type": "code",
      "source": [
        "#import data\n",
        "df = pd.read_csv('hillbilly_elegy.csv')\n",
        "df.head()"
      ],
      "metadata": {
        "colab": {
          "base_uri": "https://localhost:8080/",
          "height": 293
        },
        "id": "AonCIBZWWZkL",
        "outputId": "267d0a95-e69d-4bce-ad56-c65b2242e266"
      },
      "execution_count": 39,
      "outputs": [
        {
          "output_type": "execute_result",
          "data": {
            "text/plain": [
              "             User Name                                        Review Date  \\\n",
              "0                PRNLM     Reviewed in the United States on July 25, 2016   \n",
              "1            J. Foster   Reviewed in the United States on August 12, 2017   \n",
              "2          Ted Lehmann     Reviewed in the United States on July 13, 2017   \n",
              "3              Fnu Lnu  Reviewed in the United States on December 9, 2016   \n",
              "4  Richard B. Schwartz      Reviewed in the United States on July 3, 2017   \n",
              "\n",
              "                                         Review Body  \n",
              "0  There is a lot to take in here, even for someo...  \n",
              "1  J.D. Vance chronicles his \"upwardly mobile\" jo...  \n",
              "2  Hillbilly Elegy: A Memoir of a Family and Cult...  \n",
              "3  This is an exceptional memoir, particularly fr...  \n",
              "4  It may be that the most interesting thing abou...  "
            ],
            "text/html": [
              "\n",
              "  <div id=\"df-ec768651-db73-4274-b85a-e1c9e6d25bff\" class=\"colab-df-container\">\n",
              "    <div>\n",
              "<style scoped>\n",
              "    .dataframe tbody tr th:only-of-type {\n",
              "        vertical-align: middle;\n",
              "    }\n",
              "\n",
              "    .dataframe tbody tr th {\n",
              "        vertical-align: top;\n",
              "    }\n",
              "\n",
              "    .dataframe thead th {\n",
              "        text-align: right;\n",
              "    }\n",
              "</style>\n",
              "<table border=\"1\" class=\"dataframe\">\n",
              "  <thead>\n",
              "    <tr style=\"text-align: right;\">\n",
              "      <th></th>\n",
              "      <th>User Name</th>\n",
              "      <th>Review Date</th>\n",
              "      <th>Review Body</th>\n",
              "    </tr>\n",
              "  </thead>\n",
              "  <tbody>\n",
              "    <tr>\n",
              "      <th>0</th>\n",
              "      <td>PRNLM</td>\n",
              "      <td>Reviewed in the United States on July 25, 2016</td>\n",
              "      <td>There is a lot to take in here, even for someo...</td>\n",
              "    </tr>\n",
              "    <tr>\n",
              "      <th>1</th>\n",
              "      <td>J. Foster</td>\n",
              "      <td>Reviewed in the United States on August 12, 2017</td>\n",
              "      <td>J.D. Vance chronicles his \"upwardly mobile\" jo...</td>\n",
              "    </tr>\n",
              "    <tr>\n",
              "      <th>2</th>\n",
              "      <td>Ted Lehmann</td>\n",
              "      <td>Reviewed in the United States on July 13, 2017</td>\n",
              "      <td>Hillbilly Elegy: A Memoir of a Family and Cult...</td>\n",
              "    </tr>\n",
              "    <tr>\n",
              "      <th>3</th>\n",
              "      <td>Fnu Lnu</td>\n",
              "      <td>Reviewed in the United States on December 9, 2016</td>\n",
              "      <td>This is an exceptional memoir, particularly fr...</td>\n",
              "    </tr>\n",
              "    <tr>\n",
              "      <th>4</th>\n",
              "      <td>Richard B. Schwartz</td>\n",
              "      <td>Reviewed in the United States on July 3, 2017</td>\n",
              "      <td>It may be that the most interesting thing abou...</td>\n",
              "    </tr>\n",
              "  </tbody>\n",
              "</table>\n",
              "</div>\n",
              "    <div class=\"colab-df-buttons\">\n",
              "\n",
              "  <div class=\"colab-df-container\">\n",
              "    <button class=\"colab-df-convert\" onclick=\"convertToInteractive('df-ec768651-db73-4274-b85a-e1c9e6d25bff')\"\n",
              "            title=\"Convert this dataframe to an interactive table.\"\n",
              "            style=\"display:none;\">\n",
              "\n",
              "  <svg xmlns=\"http://www.w3.org/2000/svg\" height=\"24px\" viewBox=\"0 -960 960 960\">\n",
              "    <path d=\"M120-120v-720h720v720H120Zm60-500h600v-160H180v160Zm220 220h160v-160H400v160Zm0 220h160v-160H400v160ZM180-400h160v-160H180v160Zm440 0h160v-160H620v160ZM180-180h160v-160H180v160Zm440 0h160v-160H620v160Z\"/>\n",
              "  </svg>\n",
              "    </button>\n",
              "\n",
              "  <style>\n",
              "    .colab-df-container {\n",
              "      display:flex;\n",
              "      gap: 12px;\n",
              "    }\n",
              "\n",
              "    .colab-df-convert {\n",
              "      background-color: #E8F0FE;\n",
              "      border: none;\n",
              "      border-radius: 50%;\n",
              "      cursor: pointer;\n",
              "      display: none;\n",
              "      fill: #1967D2;\n",
              "      height: 32px;\n",
              "      padding: 0 0 0 0;\n",
              "      width: 32px;\n",
              "    }\n",
              "\n",
              "    .colab-df-convert:hover {\n",
              "      background-color: #E2EBFA;\n",
              "      box-shadow: 0px 1px 2px rgba(60, 64, 67, 0.3), 0px 1px 3px 1px rgba(60, 64, 67, 0.15);\n",
              "      fill: #174EA6;\n",
              "    }\n",
              "\n",
              "    .colab-df-buttons div {\n",
              "      margin-bottom: 4px;\n",
              "    }\n",
              "\n",
              "    [theme=dark] .colab-df-convert {\n",
              "      background-color: #3B4455;\n",
              "      fill: #D2E3FC;\n",
              "    }\n",
              "\n",
              "    [theme=dark] .colab-df-convert:hover {\n",
              "      background-color: #434B5C;\n",
              "      box-shadow: 0px 1px 3px 1px rgba(0, 0, 0, 0.15);\n",
              "      filter: drop-shadow(0px 1px 2px rgba(0, 0, 0, 0.3));\n",
              "      fill: #FFFFFF;\n",
              "    }\n",
              "  </style>\n",
              "\n",
              "    <script>\n",
              "      const buttonEl =\n",
              "        document.querySelector('#df-ec768651-db73-4274-b85a-e1c9e6d25bff button.colab-df-convert');\n",
              "      buttonEl.style.display =\n",
              "        google.colab.kernel.accessAllowed ? 'block' : 'none';\n",
              "\n",
              "      async function convertToInteractive(key) {\n",
              "        const element = document.querySelector('#df-ec768651-db73-4274-b85a-e1c9e6d25bff');\n",
              "        const dataTable =\n",
              "          await google.colab.kernel.invokeFunction('convertToInteractive',\n",
              "                                                    [key], {});\n",
              "        if (!dataTable) return;\n",
              "\n",
              "        const docLinkHtml = 'Like what you see? Visit the ' +\n",
              "          '<a target=\"_blank\" href=https://colab.research.google.com/notebooks/data_table.ipynb>data table notebook</a>'\n",
              "          + ' to learn more about interactive tables.';\n",
              "        element.innerHTML = '';\n",
              "        dataTable['output_type'] = 'display_data';\n",
              "        await google.colab.output.renderOutput(dataTable, element);\n",
              "        const docLink = document.createElement('div');\n",
              "        docLink.innerHTML = docLinkHtml;\n",
              "        element.appendChild(docLink);\n",
              "      }\n",
              "    </script>\n",
              "  </div>\n",
              "\n",
              "\n",
              "<div id=\"df-1b4cef6f-9b20-4827-9c52-eccbe7694b86\">\n",
              "  <button class=\"colab-df-quickchart\" onclick=\"quickchart('df-1b4cef6f-9b20-4827-9c52-eccbe7694b86')\"\n",
              "            title=\"Suggest charts\"\n",
              "            style=\"display:none;\">\n",
              "\n",
              "<svg xmlns=\"http://www.w3.org/2000/svg\" height=\"24px\"viewBox=\"0 0 24 24\"\n",
              "     width=\"24px\">\n",
              "    <g>\n",
              "        <path d=\"M19 3H5c-1.1 0-2 .9-2 2v14c0 1.1.9 2 2 2h14c1.1 0 2-.9 2-2V5c0-1.1-.9-2-2-2zM9 17H7v-7h2v7zm4 0h-2V7h2v10zm4 0h-2v-4h2v4z\"/>\n",
              "    </g>\n",
              "</svg>\n",
              "  </button>\n",
              "\n",
              "<style>\n",
              "  .colab-df-quickchart {\n",
              "      --bg-color: #E8F0FE;\n",
              "      --fill-color: #1967D2;\n",
              "      --hover-bg-color: #E2EBFA;\n",
              "      --hover-fill-color: #174EA6;\n",
              "      --disabled-fill-color: #AAA;\n",
              "      --disabled-bg-color: #DDD;\n",
              "  }\n",
              "\n",
              "  [theme=dark] .colab-df-quickchart {\n",
              "      --bg-color: #3B4455;\n",
              "      --fill-color: #D2E3FC;\n",
              "      --hover-bg-color: #434B5C;\n",
              "      --hover-fill-color: #FFFFFF;\n",
              "      --disabled-bg-color: #3B4455;\n",
              "      --disabled-fill-color: #666;\n",
              "  }\n",
              "\n",
              "  .colab-df-quickchart {\n",
              "    background-color: var(--bg-color);\n",
              "    border: none;\n",
              "    border-radius: 50%;\n",
              "    cursor: pointer;\n",
              "    display: none;\n",
              "    fill: var(--fill-color);\n",
              "    height: 32px;\n",
              "    padding: 0;\n",
              "    width: 32px;\n",
              "  }\n",
              "\n",
              "  .colab-df-quickchart:hover {\n",
              "    background-color: var(--hover-bg-color);\n",
              "    box-shadow: 0 1px 2px rgba(60, 64, 67, 0.3), 0 1px 3px 1px rgba(60, 64, 67, 0.15);\n",
              "    fill: var(--button-hover-fill-color);\n",
              "  }\n",
              "\n",
              "  .colab-df-quickchart-complete:disabled,\n",
              "  .colab-df-quickchart-complete:disabled:hover {\n",
              "    background-color: var(--disabled-bg-color);\n",
              "    fill: var(--disabled-fill-color);\n",
              "    box-shadow: none;\n",
              "  }\n",
              "\n",
              "  .colab-df-spinner {\n",
              "    border: 2px solid var(--fill-color);\n",
              "    border-color: transparent;\n",
              "    border-bottom-color: var(--fill-color);\n",
              "    animation:\n",
              "      spin 1s steps(1) infinite;\n",
              "  }\n",
              "\n",
              "  @keyframes spin {\n",
              "    0% {\n",
              "      border-color: transparent;\n",
              "      border-bottom-color: var(--fill-color);\n",
              "      border-left-color: var(--fill-color);\n",
              "    }\n",
              "    20% {\n",
              "      border-color: transparent;\n",
              "      border-left-color: var(--fill-color);\n",
              "      border-top-color: var(--fill-color);\n",
              "    }\n",
              "    30% {\n",
              "      border-color: transparent;\n",
              "      border-left-color: var(--fill-color);\n",
              "      border-top-color: var(--fill-color);\n",
              "      border-right-color: var(--fill-color);\n",
              "    }\n",
              "    40% {\n",
              "      border-color: transparent;\n",
              "      border-right-color: var(--fill-color);\n",
              "      border-top-color: var(--fill-color);\n",
              "    }\n",
              "    60% {\n",
              "      border-color: transparent;\n",
              "      border-right-color: var(--fill-color);\n",
              "    }\n",
              "    80% {\n",
              "      border-color: transparent;\n",
              "      border-right-color: var(--fill-color);\n",
              "      border-bottom-color: var(--fill-color);\n",
              "    }\n",
              "    90% {\n",
              "      border-color: transparent;\n",
              "      border-bottom-color: var(--fill-color);\n",
              "    }\n",
              "  }\n",
              "</style>\n",
              "\n",
              "  <script>\n",
              "    async function quickchart(key) {\n",
              "      const quickchartButtonEl =\n",
              "        document.querySelector('#' + key + ' button');\n",
              "      quickchartButtonEl.disabled = true;  // To prevent multiple clicks.\n",
              "      quickchartButtonEl.classList.add('colab-df-spinner');\n",
              "      try {\n",
              "        const charts = await google.colab.kernel.invokeFunction(\n",
              "            'suggestCharts', [key], {});\n",
              "      } catch (error) {\n",
              "        console.error('Error during call to suggestCharts:', error);\n",
              "      }\n",
              "      quickchartButtonEl.classList.remove('colab-df-spinner');\n",
              "      quickchartButtonEl.classList.add('colab-df-quickchart-complete');\n",
              "    }\n",
              "    (() => {\n",
              "      let quickchartButtonEl =\n",
              "        document.querySelector('#df-1b4cef6f-9b20-4827-9c52-eccbe7694b86 button');\n",
              "      quickchartButtonEl.style.display =\n",
              "        google.colab.kernel.accessAllowed ? 'block' : 'none';\n",
              "    })();\n",
              "  </script>\n",
              "</div>\n",
              "\n",
              "    </div>\n",
              "  </div>\n"
            ],
            "application/vnd.google.colaboratory.intrinsic+json": {
              "type": "dataframe",
              "variable_name": "df",
              "summary": "{\n  \"name\": \"df\",\n  \"rows\": 100,\n  \"fields\": [\n    {\n      \"column\": \"User Name\",\n      \"properties\": {\n        \"dtype\": \"string\",\n        \"num_unique_values\": 94,\n        \"samples\": [\n          \"Kevin Mayfield\",\n          \"Kindle Customer\",\n          \"Cheryl Racine\"\n        ],\n        \"semantic_type\": \"\",\n        \"description\": \"\"\n      }\n    },\n    {\n      \"column\": \"Review Date\",\n      \"properties\": {\n        \"dtype\": \"string\",\n        \"num_unique_values\": 59,\n        \"samples\": [\n          \"Reviewed in the United States on July 25, 2016\",\n          \"Reviewed in the United States on January 11, 2025\",\n          \"Reviewed in the United States on January 21, 2025\"\n        ],\n        \"semantic_type\": \"\",\n        \"description\": \"\"\n      }\n    },\n    {\n      \"column\": \"Review Body\",\n      \"properties\": {\n        \"dtype\": \"string\",\n        \"num_unique_values\": 100,\n        \"samples\": [\n          \"Easy to read. Informative. Not political.\",\n          \"Book is well written. Very interesting reading about different ways of living. Recommend this book.\",\n          \"The protagonist of HILLBILLY ELEGY does not sound like the V.P. candidate who refers to liberal females as \\u201ccat ladies\\u201d. Young J.D. Vance sounds like an admirable person who pulled himself up by his bootstraps.\\n\\nJ.D.\\u2019s mother was an addict. At first it sounded like she was hooked on opioid pills but later on there was a reference to heroin. Anyway, J.D. spent the last three years of high school living with Mamaw, his grandmother.\\n\\nJ.D. has a lot to say about the hillbillies who moved from Jackson, Kentucky to Middletown, Ohio. They brought their culture with them. For instance one transplanted hillbilly got in trouble with the town government over keeping chickens in his back yard. J.D. goes on to say \\u201c...hillbillies shared many regional characteristics with the southern blacks arriving in Detroit.\\u201d J.D. had to deal with abuse, alcoholism, and poverty. The sound of family life he was familiar with was a lot of yelling and screaming.\\n\\nJ.D. didn\\u2019t hear that at his Mamaw\\u2019s house. She encouraged him to succeed, and he did, joining the marines. He says the marines taught him how to be a man; at one point he was about to pay 22% interest on a loan to buy a car, but his fellow marines talked him out of that, and he got the loan for half that. From there he went to Ohio State on the G.I. bill, graduating in two years, after which he was accepted at Yale Law School, but he still felt like a hillbilly amongst his mostly rich classmates.\\n\\nConsidering where he came from and the mountains he had to climb, it\\u2019s hard to believe this guy is running for V.P. alongside Donald J. Trump, his direct opposite.\"\n        ],\n        \"semantic_type\": \"\",\n        \"description\": \"\"\n      }\n    }\n  ]\n}"
            }
          },
          "metadata": {},
          "execution_count": 39
        }
      ]
    },
    {
      "cell_type": "code",
      "source": [
        "df['Review Body'].values[2]"
      ],
      "metadata": {
        "id": "Hy4r2mWKWio5",
        "colab": {
          "base_uri": "https://localhost:8080/",
          "height": 268
        },
        "outputId": "a0a37b03-e90c-4881-feee-c6fe8c3cd6c4"
      },
      "execution_count": 40,
      "outputs": [
        {
          "output_type": "execute_result",
          "data": {
            "text/plain": [
              "\"Hillbilly Elegy: A Memoir of a Family and Culture in Crisis by J.D. Vance (Harper Collins, 2016, $12.59/15.99) has been on the NY Times Best Seller List for forty-nine weeks, and at the time of this writing, stands at number two. This touching, revealing, warm, sad, and inspiring memoir, written by a Yale Law School graduate whose childhood was spent in the hills of eastern Kentucky and the migrated community of Middletown, OH, opens many sores while explaining in the most human and personal terms possible the pain and misunderstanding that harms working class and poor white Americans in the Hheartlands. Throughout this tale Vance sometimes mentions findings of academic studies and other research, using them to support or introduce his own poignant experiences, but, most of all, this is the story of one man's ability to persevere in an environment where success such as he has experienced is rare, and , according to him psychically costly as well as economically expensive.\\n\\nLiving within a home with serial father figures coming and going and an alcoholic, drug addicted mother, he attributes the source of his core values to life in rural Jackson, Kentucky in the hills and hollers of Appalachia with his Mamaw and any number of uncles and cousins. He describes on academic paper in which the authors suggest that “hillbillies learn from an early age to deal with uncomfortable truths by avoiding them, or by pretending better truths exist, a characteristic of bluegrass music, too. Vance refuses to look the others way.\\n\\nVance tracks the two major migrations from Appalachia to the industrial mid-west, particularly Middletown, OH, which were mirrored in the South, mid-South and New England, the depression era migrations and the post-WWII migration of returning veterans. He examines how the regions prospered and then died off with the decline of America industrial might, leaving abandoned neighborhoods, unemployment, and drug dependency behind, attributing this to both bad government policies and globalism.\\n\\nVance consistently refers to himself and his family as being poor and then at other times being “working class.” Joan C. Williams, in White Working Class seems to make a clear distinction between the two while Vance vacillates. He talks about “his people,” Kentucky migrants to southern Ohio, as often living off the dole, not working, and being plagued by drugs and violence, yet also talks about an uncle who escapes to the middle class, and his mother who, despite being an addict, was a nurse who was able to work a good deal of the time. He glories, however, in his extended family, his many uncles who provide him with male role models in both positive and negative ways. At times he seems remarkably judgmental, while at others, forgiving.\\n\\nAs Vance matures through adolescence, he begins to see the disjointures between both liberal and conservative points of view. He sees many of the government programs as well meaning but ineffective while the conservative solutions were disciplinary and draconian. In his reading of sociology, while in high school, he began to realize that the situation of black people described in his readings about black America contained the same dilemmas as did the lives and existence of the white working poor from Appalachia. “Our Elegy is a sociological one, yes, but it is also about psychology and community and culture and faith.” (144) He's writing about religion, work, and family when he observes the deep “cognitive dissonance between the world we see and the values we preach.” (147)\\n\\nAs Vance prepares to attend Yale Law School he explains in touching, no-holds-barred language why a person like him, growing up in poverty, bedeviled by the rigors of having a drug addicted mother living with multiple husbands, and seemingly inured to violence and loss could reject the attractions of both the left and the right. These chapters, presented within the context of an actual life lived in poverty and difficulty, if not despair, bring so many working class and poor white men, especially, to accept so much patently untrue or misleading material in seeking to understand who they are, why they got that way, and how difficult it is to extricate oneself. In short, Vance asserts, it's easier for many to blame “the other” than it is to do the hard analysis of one's own choices, accept the verdict, and get to work to change things. What sets J.D. Vance apart is his ongoing optimism, despite all evidence to the contrary.\\n\\nInterestingly, Hillbilly Elegy can also stand as a “How To” book for those seeking to find their own way to a different place in both the workplace and in society. For instance, the non-verbal behavioral cues of social class are significantly different than the behaviors that pass for progressing in working class employment and social environments. Vance shows himself always to be exceptionally alert to what's going on around him. As he gains in self confidence, his ability to ask questions of those he trusts increases. He's also a very fast learner. Nevertheless he owns to deep feelings of abandoning the culture from which he comes while yearning to become part of that with which he's not, yet, thoroughly familiar. However, the struggle is neither easy nor always successful.\\n\\nThroughout Hillbilly Elegy: A Memoir of a Family and Culture in Crisis, Vance scatters data and information from relevant sociological and psychological writing to illuminate the points he makes, to give them a solid theoretical context. Such use of accurate research information never seems intrusive or fault-finding. Rather, it seeks to help a reader generalize from the highly personal revelation of the pain and confusion of Vance's childhood. It helps the reader gain understanding and perspective without ever excusing either those who raised him or his own mis-understandings, missed paths, and possibly botched relationships. He bravely opens the scars on his psyche, examines them, faces their consequences, and comes out the other side a stronger and better person. His painstaking honesty with the reader and his courage are never in doubt. This is not a book for the reader to quarrel with. Rather, it requires being good listeners, seeking to find the truths as they apply to them. Some would prescribe better, more effective programs. Others view the problems of poverty and drug addiction as the fault of the victim. While, ultimately, Vance looks towards personal responsibility for life, he fully understands the necessity for a compassionate government and individual acceptance of responsibility working together to make progress possible for all. I bought the book and read it on my Kindle app.\""
            ],
            "application/vnd.google.colaboratory.intrinsic+json": {
              "type": "string"
            }
          },
          "metadata": {},
          "execution_count": 40
        }
      ]
    },
    {
      "cell_type": "code",
      "source": [
        "df.shape"
      ],
      "metadata": {
        "colab": {
          "base_uri": "https://localhost:8080/"
        },
        "id": "mH2dfY6x36pe",
        "outputId": "523be7de-3197-4c79-8f53-7a63ba2b355e"
      },
      "execution_count": 41,
      "outputs": [
        {
          "output_type": "execute_result",
          "data": {
            "text/plain": [
              "(100, 3)"
            ]
          },
          "metadata": {},
          "execution_count": 41
        }
      ]
    },
    {
      "cell_type": "markdown",
      "source": [
        "# **Basic NLTK**"
      ],
      "metadata": {
        "id": "-agsg1N44VUw"
      }
    },
    {
      "cell_type": "code",
      "source": [
        "example = df['Review Body'].values[20]\n",
        "example"
      ],
      "metadata": {
        "colab": {
          "base_uri": "https://localhost:8080/",
          "height": 107
        },
        "id": "VnVw8fR04XpV",
        "outputId": "cd1bd3a9-8abe-4633-a3a8-c5d6cc964b23"
      },
      "execution_count": 42,
      "outputs": [
        {
          "output_type": "execute_result",
          "data": {
            "text/plain": [
              "'This in some ways mirrors my own life story. I was in three homes and an orphanage. I know many of these stories and have lived the flight syndrome all my life.\\n\\nThank you sir for your vulnerability and willingness to deal with your life hurts.\\n\\nBlessings and my prayers and support are with you Usha.\\n\\nYour a great man JD Vance!'"
            ],
            "application/vnd.google.colaboratory.intrinsic+json": {
              "type": "string"
            }
          },
          "metadata": {},
          "execution_count": 42
        }
      ]
    },
    {
      "cell_type": "code",
      "source": [
        "tokens = nltk.word_tokenize(example)\n",
        "tokens[:10]"
      ],
      "metadata": {
        "colab": {
          "base_uri": "https://localhost:8080/"
        },
        "id": "50C6aFBo4ov0",
        "outputId": "a4508fa6-ae4a-445b-eed5-09a7b6a79688"
      },
      "execution_count": 44,
      "outputs": [
        {
          "output_type": "execute_result",
          "data": {
            "text/plain": [
              "['This', 'in', 'some', 'ways', 'mirrors', 'my', 'own', 'life', 'story', '.']"
            ]
          },
          "metadata": {},
          "execution_count": 44
        }
      ]
    },
    {
      "cell_type": "code",
      "source": [
        "#part of speech tagging\n",
        "nltk.download('averaged_perceptron_tagger_eng')\n",
        "tagged = nltk.pos_tag(tokens)\n",
        "tagged[:10]"
      ],
      "metadata": {
        "colab": {
          "base_uri": "https://localhost:8080/"
        },
        "id": "yp1qYDJb5oHa",
        "outputId": "732c60aa-a36d-40ff-8be3-ddc58a5e12a7"
      },
      "execution_count": 48,
      "outputs": [
        {
          "output_type": "stream",
          "name": "stderr",
          "text": [
            "[nltk_data] Downloading package averaged_perceptron_tagger_eng to\n",
            "[nltk_data]     /root/nltk_data...\n",
            "[nltk_data]   Package averaged_perceptron_tagger_eng is already up-to-\n",
            "[nltk_data]       date!\n"
          ]
        },
        {
          "output_type": "execute_result",
          "data": {
            "text/plain": [
              "[('This', 'DT'),\n",
              " ('in', 'IN'),\n",
              " ('some', 'DT'),\n",
              " ('ways', 'NNS'),\n",
              " ('mirrors', 'NNS'),\n",
              " ('my', 'PRP$'),\n",
              " ('own', 'JJ'),\n",
              " ('life', 'NN'),\n",
              " ('story', 'NN'),\n",
              " ('.', '.')]"
            ]
          },
          "metadata": {},
          "execution_count": 48
        }
      ]
    },
    {
      "cell_type": "code",
      "source": [
        "nltk.download('maxent_ne_chunker_tab')\n",
        "nltk.download('words')\n",
        "\n",
        "entities = nltk.chunk.ne_chunk(tagged)\n",
        "entities.pprint()"
      ],
      "metadata": {
        "colab": {
          "base_uri": "https://localhost:8080/"
        },
        "id": "LooPqfRr6bYp",
        "outputId": "fa92a342-9fda-4340-9464-f67609f82f08"
      },
      "execution_count": 55,
      "outputs": [
        {
          "output_type": "stream",
          "name": "stderr",
          "text": [
            "[nltk_data] Downloading package maxent_ne_chunker_tab to\n",
            "[nltk_data]     /root/nltk_data...\n",
            "[nltk_data]   Package maxent_ne_chunker_tab is already up-to-date!\n",
            "[nltk_data] Downloading package words to /root/nltk_data...\n",
            "[nltk_data]   Package words is already up-to-date!\n"
          ]
        },
        {
          "output_type": "stream",
          "name": "stdout",
          "text": [
            "(S\n",
            "  This/DT\n",
            "  in/IN\n",
            "  some/DT\n",
            "  ways/NNS\n",
            "  mirrors/NNS\n",
            "  my/PRP$\n",
            "  own/JJ\n",
            "  life/NN\n",
            "  story/NN\n",
            "  ./.\n",
            "  I/PRP\n",
            "  was/VBD\n",
            "  in/IN\n",
            "  three/CD\n",
            "  homes/NNS\n",
            "  and/CC\n",
            "  an/DT\n",
            "  orphanage/NN\n",
            "  ./.\n",
            "  I/PRP\n",
            "  know/VBP\n",
            "  many/JJ\n",
            "  of/IN\n",
            "  these/DT\n",
            "  stories/NNS\n",
            "  and/CC\n",
            "  have/VBP\n",
            "  lived/VBN\n",
            "  the/DT\n",
            "  flight/NN\n",
            "  syndrome/NN\n",
            "  all/DT\n",
            "  my/PRP$\n",
            "  life/NN\n",
            "  ./.\n",
            "  Thank/NNP\n",
            "  you/PRP\n",
            "  sir/VBP\n",
            "  for/IN\n",
            "  your/PRP$\n",
            "  vulnerability/NN\n",
            "  and/CC\n",
            "  willingness/NN\n",
            "  to/TO\n",
            "  deal/VB\n",
            "  with/IN\n",
            "  your/PRP$\n",
            "  life/NN\n",
            "  hurts/NNS\n",
            "  ./.\n",
            "  Blessings/NNS\n",
            "  and/CC\n",
            "  my/PRP$\n",
            "  prayers/NNS\n",
            "  and/CC\n",
            "  support/NN\n",
            "  are/VBP\n",
            "  with/IN\n",
            "  you/PRP\n",
            "  Usha/VBP\n",
            "  ./.\n",
            "  Your/PRP$\n",
            "  a/DT\n",
            "  great/JJ\n",
            "  man/NN\n",
            "  JD/NNP\n",
            "  Vance/NNP\n",
            "  !/.)\n"
          ]
        }
      ]
    },
    {
      "cell_type": "code",
      "source": [],
      "metadata": {
        "id": "tfK32Wnf6q4z"
      },
      "execution_count": null,
      "outputs": []
    },
    {
      "cell_type": "code",
      "source": [],
      "metadata": {
        "id": "9qaCMbqc7AZZ"
      },
      "execution_count": null,
      "outputs": []
    },
    {
      "cell_type": "markdown",
      "source": [
        "# **VADER Sentiment Scoring**\n",
        "\n",
        "\n",
        "*   Bag of words approach\n",
        "\n",
        "\n",
        "    1.   Stop words are removed\n",
        "    2.   Each word is scored and combined for a total score\n",
        "\n"
      ],
      "metadata": {
        "id": "SGhafTAo7Bk0"
      }
    },
    {
      "cell_type": "code",
      "source": [
        "#imports\n",
        "from nltk.sentiment import SentimentIntensityAnalyzer\n",
        "nltk.download('vader_lexicon')\n",
        "from tqdm.notebook import tqdm"
      ],
      "metadata": {
        "colab": {
          "base_uri": "https://localhost:8080/"
        },
        "id": "YDbGet7n7RYw",
        "outputId": "aa10a1ad-83e1-4938-aa7d-1b4502427e65"
      },
      "execution_count": 58,
      "outputs": [
        {
          "output_type": "stream",
          "name": "stderr",
          "text": [
            "[nltk_data] Downloading package vader_lexicon to /root/nltk_data...\n"
          ]
        }
      ]
    },
    {
      "cell_type": "markdown",
      "source": [
        "Practice SIA"
      ],
      "metadata": {
        "id": "67IYeJF27xWa"
      }
    },
    {
      "cell_type": "code",
      "source": [
        "sia = SentimentIntensityAnalyzer()"
      ],
      "metadata": {
        "id": "hpPDwC5A7al1"
      },
      "execution_count": 59,
      "outputs": []
    },
    {
      "cell_type": "code",
      "source": [
        "#compound is a combination of negative and positive -> from -1 to 1\n",
        "sia.polarity_scores('I am so happy') #prints positivity"
      ],
      "metadata": {
        "colab": {
          "base_uri": "https://localhost:8080/"
        },
        "id": "QQ2eiFPG7gjy",
        "outputId": "0b1aa1d8-c7e9-43ab-8cfd-b1f65996d0bd"
      },
      "execution_count": 60,
      "outputs": [
        {
          "output_type": "execute_result",
          "data": {
            "text/plain": [
              "{'neg': 0.0, 'neu': 0.334, 'pos': 0.666, 'compound': 0.6115}"
            ]
          },
          "metadata": {},
          "execution_count": 60
        }
      ]
    },
    {
      "cell_type": "code",
      "source": [
        "sia.polarity_scores('I am so sad') #prints negativity"
      ],
      "metadata": {
        "colab": {
          "base_uri": "https://localhost:8080/"
        },
        "id": "UStDLHIe7jLV",
        "outputId": "96ec6cd0-e126-414e-9bfc-90a7428a54a7"
      },
      "execution_count": 61,
      "outputs": [
        {
          "output_type": "execute_result",
          "data": {
            "text/plain": [
              "{'neg': 0.629, 'neu': 0.371, 'pos': 0.0, 'compound': -0.5256}"
            ]
          },
          "metadata": {},
          "execution_count": 61
        }
      ]
    },
    {
      "cell_type": "code",
      "source": [
        "sia.polarity_scores(example)"
      ],
      "metadata": {
        "colab": {
          "base_uri": "https://localhost:8080/"
        },
        "id": "sUlliU7M7y95",
        "outputId": "e79c8005-6337-41ee-84d8-bad932b6a8a9"
      },
      "execution_count": 62,
      "outputs": [
        {
          "output_type": "execute_result",
          "data": {
            "text/plain": [
              "{'neg': 0.069, 'neu': 0.72, 'pos': 0.21, 'compound': 0.8805}"
            ]
          },
          "metadata": {},
          "execution_count": 62
        }
      ]
    },
    {
      "cell_type": "code",
      "source": [
        "res = {}\n",
        "\n",
        "for _, row in tqdm(df.iterrows(), total=len(df)):\n",
        "    review = row['Review Body']  # Ensure column name is correct\n",
        "    user_id = row['User Name']   # Ensure column name is correct\n",
        "\n",
        "    if pd.isna(review):  # Skip NaN reviews\n",
        "        continue\n",
        "\n",
        "    res[user_id] = sia.polarity_scores(review)  # Convert to string in case of unexpected NaNs"
      ],
      "metadata": {
        "colab": {
          "base_uri": "https://localhost:8080/",
          "height": 49,
          "referenced_widgets": [
            "b932295c9e1542f5ba9e240dc32135ee",
            "4ffff7ecb79443469d9050d5f9b972c3",
            "10b261b06ca440a88a8e866a74b7ce81",
            "253b802c29e94b96a6049ef0e71120a3",
            "90f8a281b1f641a58f4803b37e9cd9e3",
            "d6984cef2b254f1aaa16848b92361ace",
            "4c3583edd925486d935511b5bdd77a03",
            "8017485ad5c846588a7dddefa011d3fa",
            "341f0b6390e4477c8527763a3cb7d22f",
            "12f0b9983c8144d69339a1962a265022",
            "12d76f692cf54e4fa70f29570b9366ab"
          ]
        },
        "id": "GtccQ7UK74Fe",
        "outputId": "3249f2ea-610c-480b-cfa9-8b10a45af9c9"
      },
      "execution_count": 71,
      "outputs": [
        {
          "output_type": "display_data",
          "data": {
            "text/plain": [
              "  0%|          | 0/100 [00:00<?, ?it/s]"
            ],
            "application/vnd.jupyter.widget-view+json": {
              "version_major": 2,
              "version_minor": 0,
              "model_id": "b932295c9e1542f5ba9e240dc32135ee"
            }
          },
          "metadata": {}
        }
      ]
    },
    {
      "cell_type": "code",
      "source": [
        "#dict\n",
        "res"
      ],
      "metadata": {
        "colab": {
          "base_uri": "https://localhost:8080/"
        },
        "id": "zavPHikI8IIP",
        "outputId": "d7ad3d75-2f87-4418-eb2a-5ae25b478972"
      },
      "execution_count": 72,
      "outputs": [
        {
          "output_type": "execute_result",
          "data": {
            "text/plain": [
              "{'PRNLM': {'neg': 0.059, 'neu': 0.81, 'pos': 0.131, 'compound': 0.9929},\n",
              " 'J. Foster': {'neg': 0.107, 'neu': 0.798, 'pos': 0.095, 'compound': -0.8432},\n",
              " 'Ted Lehmann': {'neg': 0.113, 'neu': 0.743, 'pos': 0.144, 'compound': 0.9888},\n",
              " 'Fnu Lnu': {'neg': 0.048, 'neu': 0.723, 'pos': 0.229, 'compound': 0.9997},\n",
              " 'Richard B. Schwartz': {'neg': 0.022,\n",
              "  'neu': 0.822,\n",
              "  'pos': 0.156,\n",
              "  'compound': 0.9989},\n",
              " 'Tom and Kristen Wannemacher': {'neg': 0.054,\n",
              "  'neu': 0.787,\n",
              "  'pos': 0.159,\n",
              "  'compound': 0.9654},\n",
              " 'Robert A Haworth': {'neg': 0.099,\n",
              "  'neu': 0.698,\n",
              "  'pos': 0.203,\n",
              "  'compound': 0.9992},\n",
              " 'Dawn': {'neg': 0.072, 'neu': 0.789, 'pos': 0.139, 'compound': 0.8993},\n",
              " 'nicole w brown': {'neg': 0.102,\n",
              "  'neu': 0.809,\n",
              "  'pos': 0.089,\n",
              "  'compound': -0.9816},\n",
              " 'Liza': {'neg': 0.07, 'neu': 0.725, 'pos': 0.205, 'compound': 0.9857},\n",
              " 'ironhorseranch': {'neg': 0.057,\n",
              "  'neu': 0.744,\n",
              "  'pos': 0.199,\n",
              "  'compound': 0.9713},\n",
              " 'Chris': {'neg': 0.105, 'neu': 0.781, 'pos': 0.114, 'compound': 0.4433},\n",
              " 'Beardie mom': {'neg': 0.042, 'neu': 0.695, 'pos': 0.263, 'compound': 0.994},\n",
              " 'Gramma Kat': {'neg': 0.077, 'neu': 0.791, 'pos': 0.132, 'compound': 0.8379},\n",
              " 'HT': {'neg': 0.151, 'neu': 0.776, 'pos': 0.074, 'compound': -0.9988},\n",
              " 'K.A.K.': {'neg': 0.015, 'neu': 0.838, 'pos': 0.147, 'compound': 0.9477},\n",
              " 'Tami Shaikh': {'neg': 0.096, 'neu': 0.741, 'pos': 0.163, 'compound': 0.9986},\n",
              " 'Sarah': {'neg': 0.056, 'neu': 0.737, 'pos': 0.206, 'compound': 0.9418},\n",
              " 'Diane': {'neg': 0.024, 'neu': 0.838, 'pos': 0.138, 'compound': 0.9891},\n",
              " 'M. Rader': {'neg': 0.053, 'neu': 0.873, 'pos': 0.075, 'compound': 0.4424},\n",
              " 'Sherrie A Bell': {'neg': 0.069,\n",
              "  'neu': 0.72,\n",
              "  'pos': 0.21,\n",
              "  'compound': 0.8805},\n",
              " 'Shawna White': {'neg': 0.029,\n",
              "  'neu': 0.844,\n",
              "  'pos': 0.126,\n",
              "  'compound': 0.6354},\n",
              " 'Kindle Customer': {'neg': 0.0,\n",
              "  'neu': 0.763,\n",
              "  'pos': 0.237,\n",
              "  'compound': 0.9184},\n",
              " 'Grams': {'neg': 0.092, 'neu': 0.642, 'pos': 0.266, 'compound': 0.8894},\n",
              " 'Carole Duff': {'neg': 0.171,\n",
              "  'neu': 0.735,\n",
              "  'pos': 0.094,\n",
              "  'compound': -0.4497},\n",
              " 'happycaregiver': {'neg': 0.0, 'neu': 0.81, 'pos': 0.19, 'compound': 0.9609},\n",
              " 'Samantha': {'neg': 0.2, 'neu': 0.748, 'pos': 0.052, 'compound': -0.965},\n",
              " 'Monte K. Maxwell': {'neg': 0.0,\n",
              "  'neu': 0.959,\n",
              "  'pos': 0.041,\n",
              "  'compound': 0.3182},\n",
              " 'Mimi': {'neg': 0.071, 'neu': 0.626, 'pos': 0.302, 'compound': 0.9712},\n",
              " 'Jiminylena': {'neg': 0.037, 'neu': 0.659, 'pos': 0.304, 'compound': 0.9678},\n",
              " 'Sherry Boyd': {'neg': 0.194,\n",
              "  'neu': 0.758,\n",
              "  'pos': 0.048,\n",
              "  'compound': -0.7845},\n",
              " 'Robert G. Walsh': {'neg': 0.038,\n",
              "  'neu': 0.749,\n",
              "  'pos': 0.213,\n",
              "  'compound': 0.923},\n",
              " 'deseretrat': {'neg': 0.047, 'neu': 0.796, 'pos': 0.157, 'compound': 0.6597},\n",
              " 'HazelD': {'neg': 0.041, 'neu': 0.687, 'pos': 0.271, 'compound': 0.8422},\n",
              " 'Rachel Simon': {'neg': 0.0, 'neu': 0.693, 'pos': 0.307, 'compound': 0.9362},\n",
              " 'Tom Rusk': {'neg': 0.052, 'neu': 0.851, 'pos': 0.097, 'compound': 0.4404},\n",
              " 'Booklover': {'neg': 0.02, 'neu': 0.797, 'pos': 0.183, 'compound': 0.9402},\n",
              " 'Ryan Smith': {'neg': 0.0, 'neu': 0.911, 'pos': 0.089, 'compound': 0.7178},\n",
              " 'Po-Yu': {'neg': 0.062, 'neu': 0.836, 'pos': 0.102, 'compound': 0.8992},\n",
              " 'Amazon Customer': {'neg': 0.0,\n",
              "  'neu': 0.873,\n",
              "  'pos': 0.127,\n",
              "  'compound': 0.4404},\n",
              " 'Kevin Mayfield': {'neg': 0.06,\n",
              "  'neu': 0.816,\n",
              "  'pos': 0.124,\n",
              "  'compound': 0.4767},\n",
              " 'Cathy Megrath': {'neg': 0.067,\n",
              "  'neu': 0.674,\n",
              "  'pos': 0.259,\n",
              "  'compound': 0.8257},\n",
              " 'Shawn Hamilton': {'neg': 0.0, 'neu': 0.633, 'pos': 0.367, 'compound': 0.926},\n",
              " 'evelyntennessee': {'neg': 0.023,\n",
              "  'neu': 0.802,\n",
              "  'pos': 0.175,\n",
              "  'compound': 0.9287},\n",
              " 'Elephant Brands Distribution': {'neg': 0.083,\n",
              "  'neu': 0.65,\n",
              "  'pos': 0.267,\n",
              "  'compound': 0.9101},\n",
              " 'Joe Scheiner': {'neg': 0.0, 'neu': 0.84, 'pos': 0.16, 'compound': 0.7335},\n",
              " 'Sam': {'neg': 0.011, 'neu': 0.821, 'pos': 0.168, 'compound': 0.9786},\n",
              " 'knash': {'neg': 0.0, 'neu': 0.817, 'pos': 0.183, 'compound': 0.8643},\n",
              " 'Constantinos E. Scaros': {'neg': 0.019,\n",
              "  'neu': 0.858,\n",
              "  'pos': 0.123,\n",
              "  'compound': 0.84},\n",
              " 'Susie Rosser': {'neg': 0.0, 'neu': 0.785, 'pos': 0.215, 'compound': 0.6697},\n",
              " 'stepha': {'neg': 0.0, 'neu': 0.681, 'pos': 0.319, 'compound': 0.7269},\n",
              " 'Kate': {'neg': 0.0, 'neu': 0.612, 'pos': 0.388, 'compound': 0.7645},\n",
              " 'Tbone': {'neg': 0.115, 'neu': 0.825, 'pos': 0.06, 'compound': -0.9544},\n",
              " 'Cody Allen': {'neg': 0.098, 'neu': 0.756, 'pos': 0.147, 'compound': 0.9884},\n",
              " 'einsteinboricua': {'neg': 0.062,\n",
              "  'neu': 0.803,\n",
              "  'pos': 0.135,\n",
              "  'compound': 0.9966},\n",
              " 'Cheryl Racine': {'neg': 0.109,\n",
              "  'neu': 0.667,\n",
              "  'pos': 0.224,\n",
              "  'compound': 0.5837},\n",
              " 'cheryl provence': {'neg': 0.0,\n",
              "  'neu': 0.638,\n",
              "  'pos': 0.362,\n",
              "  'compound': 0.8957},\n",
              " 'Ryan B': {'neg': 0.09, 'neu': 0.797, 'pos': 0.113, 'compound': 0.9234},\n",
              " 'Kathy of The Cove': {'neg': 0.0,\n",
              "  'neu': 0.714,\n",
              "  'pos': 0.286,\n",
              "  'compound': 0.5859},\n",
              " 'Yvonne': {'neg': 0.0, 'neu': 0.653, 'pos': 0.347, 'compound': 0.7841},\n",
              " 'Jason G': {'neg': 0.123, 'neu': 0.756, 'pos': 0.121, 'compound': -0.3197},\n",
              " 'William K.': {'neg': 0.13, 'neu': 0.804, 'pos': 0.067, 'compound': -0.9825},\n",
              " 'Jesse Brown': {'neg': 0.065, 'neu': 0.729, 'pos': 0.206, 'compound': 0.998},\n",
              " 'J. Ebeling': {'neg': 0.0, 'neu': 0.848, 'pos': 0.152, 'compound': 0.3612},\n",
              " 'Maryland Lady': {'neg': 0.0, 'neu': 0.816, 'pos': 0.184, 'compound': 0.4019},\n",
              " 'Denise Henneman': {'neg': 0.0,\n",
              "  'neu': 0.734,\n",
              "  'pos': 0.266,\n",
              "  'compound': 0.6105},\n",
              " 'Thomas M. Loarie': {'neg': 0.095,\n",
              "  'neu': 0.679,\n",
              "  'pos': 0.226,\n",
              "  'compound': 0.9993},\n",
              " '2grinkids': {'neg': 0.0, 'neu': 0.599, 'pos': 0.401, 'compound': 0.8271},\n",
              " 'Dave Schwinghammer': {'neg': 0.1,\n",
              "  'neu': 0.823,\n",
              "  'pos': 0.077,\n",
              "  'compound': -0.6736},\n",
              " 'Grandma': {'neg': 0.0, 'neu': 0.621, 'pos': 0.379, 'compound': 0.6697},\n",
              " 'mountain man': {'neg': 0.0, 'neu': 0.687, 'pos': 0.313, 'compound': 0.4927},\n",
              " 'James Hall': {'neg': 0.0, 'neu': 0.495, 'pos': 0.505, 'compound': 0.624},\n",
              " 'Venita S. Young': {'neg': 0.0,\n",
              "  'neu': 0.653,\n",
              "  'pos': 0.347,\n",
              "  'compound': 0.4926},\n",
              " 'Rita Hodges': {'neg': 0.0, 'neu': 0.572, 'pos': 0.428, 'compound': 0.6696},\n",
              " 'Michael Cicale': {'neg': 0.017,\n",
              "  'neu': 0.863,\n",
              "  'pos': 0.121,\n",
              "  'compound': 0.7965},\n",
              " 'Alma': {'neg': 0.0, 'neu': 0.836, 'pos': 0.164, 'compound': 0.7237},\n",
              " 'Louis Levner': {'neg': 0.0, 'neu': 0.65, 'pos': 0.35, 'compound': 0.8655},\n",
              " 'Helen': {'neg': 0.0, 'neu': 0.233, 'pos': 0.767, 'compound': 0.5106},\n",
              " 'M D Cashio': {'neg': 0.0, 'neu': 0.645, 'pos': 0.355, 'compound': 0.5106},\n",
              " 'Carol B.Trimble': {'neg': 0.0, 'neu': 0.61, 'pos': 0.39, 'compound': 0.8264},\n",
              " 'M L': {'neg': 0.0, 'neu': 0.633, 'pos': 0.367, 'compound': 0.4404},\n",
              " 'Bridgette Holley': {'neg': 0.055,\n",
              "  'neu': 0.866,\n",
              "  'pos': 0.08,\n",
              "  'compound': 0.6908},\n",
              " 'Angela Whaley': {'neg': 0.049,\n",
              "  'neu': 0.712,\n",
              "  'pos': 0.24,\n",
              "  'compound': 0.7269},\n",
              " 'BECKY RYLANT': {'neg': 0.0, 'neu': 0.932, 'pos': 0.068, 'compound': 0.4019},\n",
              " 'BBC': {'neg': 0.157, 'neu': 0.522, 'pos': 0.321, 'compound': 0.5355},\n",
              " 'GRANNY': {'neg': 0.0, 'neu': 0.196, 'pos': 0.804, 'compound': 0.6249},\n",
              " 'Sandra': {'neg': 0.0, 'neu': 0.196, 'pos': 0.804, 'compound': 0.6249},\n",
              " 'Paula Kimmich': {'neg': 0.077,\n",
              "  'neu': 0.56,\n",
              "  'pos': 0.363,\n",
              "  'compound': 0.8937},\n",
              " 'King of POP': {'neg': 0.0, 'neu': 0.192, 'pos': 0.808, 'compound': 0.6369},\n",
              " 'Russ Sindelar': {'neg': 0.0, 'neu': 0.717, 'pos': 0.283, 'compound': 0.8516},\n",
              " 'Sharon G.': {'neg': 0.034, 'neu': 0.626, 'pos': 0.34, 'compound': 0.9846},\n",
              " 'Wendy Oconnell': {'neg': 0.103,\n",
              "  'neu': 0.708,\n",
              "  'pos': 0.189,\n",
              "  'compound': 0.9979},\n",
              " 'Leroy F. Gayle': {'neg': 0.086,\n",
              "  'neu': 0.525,\n",
              "  'pos': 0.389,\n",
              "  'compound': 0.8994},\n",
              " 'Jason S': {'neg': 0.0, 'neu': 0.93, 'pos': 0.07, 'compound': 0.2716}}"
            ]
          },
          "metadata": {},
          "execution_count": 72
        }
      ]
    },
    {
      "cell_type": "code",
      "source": [
        "#T transpsoes -> puts res in dataframe\n",
        "pd.DataFrame(res).T"
      ],
      "metadata": {
        "colab": {
          "base_uri": "https://localhost:8080/",
          "height": 424
        },
        "id": "RuDYNLPt8wJ8",
        "outputId": "aa39498c-36c4-4a86-eb01-7f1566d6df28"
      },
      "execution_count": 78,
      "outputs": [
        {
          "output_type": "execute_result",
          "data": {
            "text/plain": [
              "                       neg    neu    pos  compound\n",
              "PRNLM                0.059  0.810  0.131    0.9929\n",
              "J. Foster            0.107  0.798  0.095   -0.8432\n",
              "Ted Lehmann          0.113  0.743  0.144    0.9888\n",
              "Fnu Lnu              0.048  0.723  0.229    0.9997\n",
              "Richard B. Schwartz  0.022  0.822  0.156    0.9989\n",
              "...                    ...    ...    ...       ...\n",
              "Russ Sindelar        0.000  0.717  0.283    0.8516\n",
              "Sharon G.            0.034  0.626  0.340    0.9846\n",
              "Wendy Oconnell       0.103  0.708  0.189    0.9979\n",
              "Leroy F. Gayle       0.086  0.525  0.389    0.8994\n",
              "Jason S              0.000  0.930  0.070    0.2716\n",
              "\n",
              "[94 rows x 4 columns]"
            ],
            "text/html": [
              "\n",
              "  <div id=\"df-acfaed98-4ebc-4e31-b225-d8dd525bed2e\" class=\"colab-df-container\">\n",
              "    <div>\n",
              "<style scoped>\n",
              "    .dataframe tbody tr th:only-of-type {\n",
              "        vertical-align: middle;\n",
              "    }\n",
              "\n",
              "    .dataframe tbody tr th {\n",
              "        vertical-align: top;\n",
              "    }\n",
              "\n",
              "    .dataframe thead th {\n",
              "        text-align: right;\n",
              "    }\n",
              "</style>\n",
              "<table border=\"1\" class=\"dataframe\">\n",
              "  <thead>\n",
              "    <tr style=\"text-align: right;\">\n",
              "      <th></th>\n",
              "      <th>neg</th>\n",
              "      <th>neu</th>\n",
              "      <th>pos</th>\n",
              "      <th>compound</th>\n",
              "    </tr>\n",
              "  </thead>\n",
              "  <tbody>\n",
              "    <tr>\n",
              "      <th>PRNLM</th>\n",
              "      <td>0.059</td>\n",
              "      <td>0.810</td>\n",
              "      <td>0.131</td>\n",
              "      <td>0.9929</td>\n",
              "    </tr>\n",
              "    <tr>\n",
              "      <th>J. Foster</th>\n",
              "      <td>0.107</td>\n",
              "      <td>0.798</td>\n",
              "      <td>0.095</td>\n",
              "      <td>-0.8432</td>\n",
              "    </tr>\n",
              "    <tr>\n",
              "      <th>Ted Lehmann</th>\n",
              "      <td>0.113</td>\n",
              "      <td>0.743</td>\n",
              "      <td>0.144</td>\n",
              "      <td>0.9888</td>\n",
              "    </tr>\n",
              "    <tr>\n",
              "      <th>Fnu Lnu</th>\n",
              "      <td>0.048</td>\n",
              "      <td>0.723</td>\n",
              "      <td>0.229</td>\n",
              "      <td>0.9997</td>\n",
              "    </tr>\n",
              "    <tr>\n",
              "      <th>Richard B. Schwartz</th>\n",
              "      <td>0.022</td>\n",
              "      <td>0.822</td>\n",
              "      <td>0.156</td>\n",
              "      <td>0.9989</td>\n",
              "    </tr>\n",
              "    <tr>\n",
              "      <th>...</th>\n",
              "      <td>...</td>\n",
              "      <td>...</td>\n",
              "      <td>...</td>\n",
              "      <td>...</td>\n",
              "    </tr>\n",
              "    <tr>\n",
              "      <th>Russ Sindelar</th>\n",
              "      <td>0.000</td>\n",
              "      <td>0.717</td>\n",
              "      <td>0.283</td>\n",
              "      <td>0.8516</td>\n",
              "    </tr>\n",
              "    <tr>\n",
              "      <th>Sharon G.</th>\n",
              "      <td>0.034</td>\n",
              "      <td>0.626</td>\n",
              "      <td>0.340</td>\n",
              "      <td>0.9846</td>\n",
              "    </tr>\n",
              "    <tr>\n",
              "      <th>Wendy Oconnell</th>\n",
              "      <td>0.103</td>\n",
              "      <td>0.708</td>\n",
              "      <td>0.189</td>\n",
              "      <td>0.9979</td>\n",
              "    </tr>\n",
              "    <tr>\n",
              "      <th>Leroy F. Gayle</th>\n",
              "      <td>0.086</td>\n",
              "      <td>0.525</td>\n",
              "      <td>0.389</td>\n",
              "      <td>0.8994</td>\n",
              "    </tr>\n",
              "    <tr>\n",
              "      <th>Jason S</th>\n",
              "      <td>0.000</td>\n",
              "      <td>0.930</td>\n",
              "      <td>0.070</td>\n",
              "      <td>0.2716</td>\n",
              "    </tr>\n",
              "  </tbody>\n",
              "</table>\n",
              "<p>94 rows × 4 columns</p>\n",
              "</div>\n",
              "    <div class=\"colab-df-buttons\">\n",
              "\n",
              "  <div class=\"colab-df-container\">\n",
              "    <button class=\"colab-df-convert\" onclick=\"convertToInteractive('df-acfaed98-4ebc-4e31-b225-d8dd525bed2e')\"\n",
              "            title=\"Convert this dataframe to an interactive table.\"\n",
              "            style=\"display:none;\">\n",
              "\n",
              "  <svg xmlns=\"http://www.w3.org/2000/svg\" height=\"24px\" viewBox=\"0 -960 960 960\">\n",
              "    <path d=\"M120-120v-720h720v720H120Zm60-500h600v-160H180v160Zm220 220h160v-160H400v160Zm0 220h160v-160H400v160ZM180-400h160v-160H180v160Zm440 0h160v-160H620v160ZM180-180h160v-160H180v160Zm440 0h160v-160H620v160Z\"/>\n",
              "  </svg>\n",
              "    </button>\n",
              "\n",
              "  <style>\n",
              "    .colab-df-container {\n",
              "      display:flex;\n",
              "      gap: 12px;\n",
              "    }\n",
              "\n",
              "    .colab-df-convert {\n",
              "      background-color: #E8F0FE;\n",
              "      border: none;\n",
              "      border-radius: 50%;\n",
              "      cursor: pointer;\n",
              "      display: none;\n",
              "      fill: #1967D2;\n",
              "      height: 32px;\n",
              "      padding: 0 0 0 0;\n",
              "      width: 32px;\n",
              "    }\n",
              "\n",
              "    .colab-df-convert:hover {\n",
              "      background-color: #E2EBFA;\n",
              "      box-shadow: 0px 1px 2px rgba(60, 64, 67, 0.3), 0px 1px 3px 1px rgba(60, 64, 67, 0.15);\n",
              "      fill: #174EA6;\n",
              "    }\n",
              "\n",
              "    .colab-df-buttons div {\n",
              "      margin-bottom: 4px;\n",
              "    }\n",
              "\n",
              "    [theme=dark] .colab-df-convert {\n",
              "      background-color: #3B4455;\n",
              "      fill: #D2E3FC;\n",
              "    }\n",
              "\n",
              "    [theme=dark] .colab-df-convert:hover {\n",
              "      background-color: #434B5C;\n",
              "      box-shadow: 0px 1px 3px 1px rgba(0, 0, 0, 0.15);\n",
              "      filter: drop-shadow(0px 1px 2px rgba(0, 0, 0, 0.3));\n",
              "      fill: #FFFFFF;\n",
              "    }\n",
              "  </style>\n",
              "\n",
              "    <script>\n",
              "      const buttonEl =\n",
              "        document.querySelector('#df-acfaed98-4ebc-4e31-b225-d8dd525bed2e button.colab-df-convert');\n",
              "      buttonEl.style.display =\n",
              "        google.colab.kernel.accessAllowed ? 'block' : 'none';\n",
              "\n",
              "      async function convertToInteractive(key) {\n",
              "        const element = document.querySelector('#df-acfaed98-4ebc-4e31-b225-d8dd525bed2e');\n",
              "        const dataTable =\n",
              "          await google.colab.kernel.invokeFunction('convertToInteractive',\n",
              "                                                    [key], {});\n",
              "        if (!dataTable) return;\n",
              "\n",
              "        const docLinkHtml = 'Like what you see? Visit the ' +\n",
              "          '<a target=\"_blank\" href=https://colab.research.google.com/notebooks/data_table.ipynb>data table notebook</a>'\n",
              "          + ' to learn more about interactive tables.';\n",
              "        element.innerHTML = '';\n",
              "        dataTable['output_type'] = 'display_data';\n",
              "        await google.colab.output.renderOutput(dataTable, element);\n",
              "        const docLink = document.createElement('div');\n",
              "        docLink.innerHTML = docLinkHtml;\n",
              "        element.appendChild(docLink);\n",
              "      }\n",
              "    </script>\n",
              "  </div>\n",
              "\n",
              "\n",
              "<div id=\"df-d4a3aeee-9618-4556-a690-f5e75582f898\">\n",
              "  <button class=\"colab-df-quickchart\" onclick=\"quickchart('df-d4a3aeee-9618-4556-a690-f5e75582f898')\"\n",
              "            title=\"Suggest charts\"\n",
              "            style=\"display:none;\">\n",
              "\n",
              "<svg xmlns=\"http://www.w3.org/2000/svg\" height=\"24px\"viewBox=\"0 0 24 24\"\n",
              "     width=\"24px\">\n",
              "    <g>\n",
              "        <path d=\"M19 3H5c-1.1 0-2 .9-2 2v14c0 1.1.9 2 2 2h14c1.1 0 2-.9 2-2V5c0-1.1-.9-2-2-2zM9 17H7v-7h2v7zm4 0h-2V7h2v10zm4 0h-2v-4h2v4z\"/>\n",
              "    </g>\n",
              "</svg>\n",
              "  </button>\n",
              "\n",
              "<style>\n",
              "  .colab-df-quickchart {\n",
              "      --bg-color: #E8F0FE;\n",
              "      --fill-color: #1967D2;\n",
              "      --hover-bg-color: #E2EBFA;\n",
              "      --hover-fill-color: #174EA6;\n",
              "      --disabled-fill-color: #AAA;\n",
              "      --disabled-bg-color: #DDD;\n",
              "  }\n",
              "\n",
              "  [theme=dark] .colab-df-quickchart {\n",
              "      --bg-color: #3B4455;\n",
              "      --fill-color: #D2E3FC;\n",
              "      --hover-bg-color: #434B5C;\n",
              "      --hover-fill-color: #FFFFFF;\n",
              "      --disabled-bg-color: #3B4455;\n",
              "      --disabled-fill-color: #666;\n",
              "  }\n",
              "\n",
              "  .colab-df-quickchart {\n",
              "    background-color: var(--bg-color);\n",
              "    border: none;\n",
              "    border-radius: 50%;\n",
              "    cursor: pointer;\n",
              "    display: none;\n",
              "    fill: var(--fill-color);\n",
              "    height: 32px;\n",
              "    padding: 0;\n",
              "    width: 32px;\n",
              "  }\n",
              "\n",
              "  .colab-df-quickchart:hover {\n",
              "    background-color: var(--hover-bg-color);\n",
              "    box-shadow: 0 1px 2px rgba(60, 64, 67, 0.3), 0 1px 3px 1px rgba(60, 64, 67, 0.15);\n",
              "    fill: var(--button-hover-fill-color);\n",
              "  }\n",
              "\n",
              "  .colab-df-quickchart-complete:disabled,\n",
              "  .colab-df-quickchart-complete:disabled:hover {\n",
              "    background-color: var(--disabled-bg-color);\n",
              "    fill: var(--disabled-fill-color);\n",
              "    box-shadow: none;\n",
              "  }\n",
              "\n",
              "  .colab-df-spinner {\n",
              "    border: 2px solid var(--fill-color);\n",
              "    border-color: transparent;\n",
              "    border-bottom-color: var(--fill-color);\n",
              "    animation:\n",
              "      spin 1s steps(1) infinite;\n",
              "  }\n",
              "\n",
              "  @keyframes spin {\n",
              "    0% {\n",
              "      border-color: transparent;\n",
              "      border-bottom-color: var(--fill-color);\n",
              "      border-left-color: var(--fill-color);\n",
              "    }\n",
              "    20% {\n",
              "      border-color: transparent;\n",
              "      border-left-color: var(--fill-color);\n",
              "      border-top-color: var(--fill-color);\n",
              "    }\n",
              "    30% {\n",
              "      border-color: transparent;\n",
              "      border-left-color: var(--fill-color);\n",
              "      border-top-color: var(--fill-color);\n",
              "      border-right-color: var(--fill-color);\n",
              "    }\n",
              "    40% {\n",
              "      border-color: transparent;\n",
              "      border-right-color: var(--fill-color);\n",
              "      border-top-color: var(--fill-color);\n",
              "    }\n",
              "    60% {\n",
              "      border-color: transparent;\n",
              "      border-right-color: var(--fill-color);\n",
              "    }\n",
              "    80% {\n",
              "      border-color: transparent;\n",
              "      border-right-color: var(--fill-color);\n",
              "      border-bottom-color: var(--fill-color);\n",
              "    }\n",
              "    90% {\n",
              "      border-color: transparent;\n",
              "      border-bottom-color: var(--fill-color);\n",
              "    }\n",
              "  }\n",
              "</style>\n",
              "\n",
              "  <script>\n",
              "    async function quickchart(key) {\n",
              "      const quickchartButtonEl =\n",
              "        document.querySelector('#' + key + ' button');\n",
              "      quickchartButtonEl.disabled = true;  // To prevent multiple clicks.\n",
              "      quickchartButtonEl.classList.add('colab-df-spinner');\n",
              "      try {\n",
              "        const charts = await google.colab.kernel.invokeFunction(\n",
              "            'suggestCharts', [key], {});\n",
              "      } catch (error) {\n",
              "        console.error('Error during call to suggestCharts:', error);\n",
              "      }\n",
              "      quickchartButtonEl.classList.remove('colab-df-spinner');\n",
              "      quickchartButtonEl.classList.add('colab-df-quickchart-complete');\n",
              "    }\n",
              "    (() => {\n",
              "      let quickchartButtonEl =\n",
              "        document.querySelector('#df-d4a3aeee-9618-4556-a690-f5e75582f898 button');\n",
              "      quickchartButtonEl.style.display =\n",
              "        google.colab.kernel.accessAllowed ? 'block' : 'none';\n",
              "    })();\n",
              "  </script>\n",
              "</div>\n",
              "\n",
              "    </div>\n",
              "  </div>\n"
            ],
            "application/vnd.google.colaboratory.intrinsic+json": {
              "type": "dataframe",
              "summary": "{\n  \"name\": \"pd\",\n  \"rows\": 94,\n  \"fields\": [\n    {\n      \"column\": \"neg\",\n      \"properties\": {\n        \"dtype\": \"number\",\n        \"std\": 0.05016054413181833,\n        \"min\": 0.0,\n        \"max\": 0.2,\n        \"num_unique_values\": 57,\n        \"samples\": [\n          0.059,\n          0.054,\n          0.047\n        ],\n        \"semantic_type\": \"\",\n        \"description\": \"\"\n      }\n    },\n    {\n      \"column\": \"neu\",\n      \"properties\": {\n        \"dtype\": \"number\",\n        \"std\": 0.14505785693197892,\n        \"min\": 0.192,\n        \"max\": 0.959,\n        \"num_unique_values\": 81,\n        \"samples\": [\n          0.796,\n          0.81,\n          0.642\n        ],\n        \"semantic_type\": \"\",\n        \"description\": \"\"\n      }\n    },\n    {\n      \"column\": \"pos\",\n      \"properties\": {\n        \"dtype\": \"number\",\n        \"std\": 0.1589384885671845,\n        \"min\": 0.041,\n        \"max\": 0.808,\n        \"num_unique_values\": 85,\n        \"samples\": [\n          0.363,\n          0.131,\n          0.164\n        ],\n        \"semantic_type\": \"\",\n        \"description\": \"\"\n      }\n    },\n    {\n      \"column\": \"compound\",\n      \"properties\": {\n        \"dtype\": \"number\",\n        \"std\": 0.5295430600237859,\n        \"min\": -0.9988,\n        \"max\": 0.9997,\n        \"num_unique_values\": 87,\n        \"samples\": [\n          0.8264,\n          0.9929,\n          -0.965\n        ],\n        \"semantic_type\": \"\",\n        \"description\": \"\"\n      }\n    }\n  ]\n}"
            }
          },
          "metadata": {},
          "execution_count": 78
        }
      ]
    },
    {
      "cell_type": "code",
      "source": [],
      "metadata": {
        "id": "KeIsXNQl9EMK"
      },
      "execution_count": null,
      "outputs": []
    }
  ]
}